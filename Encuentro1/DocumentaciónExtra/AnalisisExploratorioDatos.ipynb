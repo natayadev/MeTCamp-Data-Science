{
 "cells": [
  {
   "cell_type": "markdown",
   "metadata": {},
   "source": [
    "<center>\n",
    "<h3>Análisis y visualización de datos</h3>\n",
    "</center>"
   ]
  },
  {
   "cell_type": "markdown",
   "metadata": {},
   "source": [
    "### Exploración de datos del Sistema Nacional de Estadísticas sobre Ejecución de la Pena – SNEEP\n",
    "##### En este conjunto de datos se detalla información recopilada en el censo realizado sobre el total de la población detenida al día 31 de diciembre de cada año, en cada establecimiento de la República Argentina. La unidad de análisis son las personas alojadas en dichos establecimientos https://datos.gob.ar/dataset/justicia-sistema-nacional-estadisticas-sobre-ejecucion-pena---sneep\n",
    "##### Para este analisis se tiene en cuenta el año 2016 y 2015."
   ]
  },
  {
   "cell_type": "code",
   "execution_count": 1,
   "metadata": {},
   "outputs": [],
   "source": [
    "%matplotlib inline\n",
    "import pandas as pd\n",
    "import copy\n",
    "import matplotlib.pyplot as plt\n",
    "import numpy as np\n",
    "import seaborn as sns\n",
    "sns.set(style=\"ticks\", color_codes=True)\n",
    "#import corrplot\n",
    "# styling\n",
    "pd.set_option('display.max_columns',150)\n",
    "plt.style.use('bmh')\n",
    "from IPython.display import display\n",
    "import warnings\n",
    "warnings.filterwarnings(\"ignore\")\n",
    "from scipy.stats import norm"
   ]
  },
  {
   "cell_type": "code",
   "execution_count": 2,
   "metadata": {},
   "outputs": [],
   "source": [
    "sneep = pd.read_csv('sneep2015_2016.csv',\n",
    "                          encoding='utf8')"
   ]
  },
  {
   "cell_type": "code",
   "execution_count": 3,
   "metadata": {
    "scrolled": true
   },
   "outputs": [
    {
     "data": {
      "text/html": [
       "<div>\n",
       "<style scoped>\n",
       "    .dataframe tbody tr th:only-of-type {\n",
       "        vertical-align: middle;\n",
       "    }\n",
       "\n",
       "    .dataframe tbody tr th {\n",
       "        vertical-align: top;\n",
       "    }\n",
       "\n",
       "    .dataframe thead th {\n",
       "        text-align: right;\n",
       "    }\n",
       "</style>\n",
       "<table border=\"1\" class=\"dataframe\">\n",
       "  <thead>\n",
       "    <tr style=\"text-align: right;\">\n",
       "      <th></th>\n",
       "      <th>anio_censo</th>\n",
       "      <th>provincia_id</th>\n",
       "      <th>provincia_descripcion</th>\n",
       "      <th>establecimiento_id</th>\n",
       "      <th>establecimiento_descripcion</th>\n",
       "      <th>edad</th>\n",
       "      <th>sexo_id</th>\n",
       "      <th>sexo_descripcion</th>\n",
       "      <th>nacionalidad_id</th>\n",
       "      <th>nacionalidad_descripcion</th>\n",
       "      <th>estado_civil_id</th>\n",
       "      <th>estado_civil_descripcion</th>\n",
       "      <th>nivel_instruccion_id</th>\n",
       "      <th>nivel_instruccion_descripcion</th>\n",
       "      <th>ultima_situacion_laboral_id</th>\n",
       "      <th>ultima_situacion_laboral_descripcion</th>\n",
       "      <th>capacitacion_laboral_al_ingresar_id</th>\n",
       "      <th>capacitacion_laboral_al_ingresar_descripcion</th>\n",
       "      <th>ultimo_lugar_residencia_id</th>\n",
       "      <th>ultimo_lugar_residencia_descripcion</th>\n",
       "      <th>ultima_provincia_residencia_id</th>\n",
       "      <th>ultima_provincia_residencia_descripcion</th>\n",
       "      <th>jurisdiccion_id</th>\n",
       "      <th>jurisdiccion_descripcion</th>\n",
       "      <th>situacion_legal_id</th>\n",
       "      <th>situacion_legal_descripcion</th>\n",
       "      <th>fecha_detencion</th>\n",
       "      <th>fecha_condenado</th>\n",
       "      <th>establecimiento_procedencia_id</th>\n",
       "      <th>establecimiento_procedencia_descripcion</th>\n",
       "      <th>delito1_id</th>\n",
       "      <th>delito1_descripcion</th>\n",
       "      <th>delito2_id</th>\n",
       "      <th>delito2_descripcion</th>\n",
       "      <th>delito3_id</th>\n",
       "      <th>delito3_descripcion</th>\n",
       "      <th>delito4_id</th>\n",
       "      <th>delito4_descripcion</th>\n",
       "      <th>delito5_id</th>\n",
       "      <th>delito5_descripcion</th>\n",
       "      <th>horas_trabajo_remunerado_id</th>\n",
       "      <th>horas_trabajo_remunerado_descripcion</th>\n",
       "      <th>participacion_programa_laboral</th>\n",
       "      <th>participacion_programa_educativo_id</th>\n",
       "      <th>participacion_programa_educativo_descripcion</th>\n",
       "      <th>participacion_actividades_deportivas</th>\n",
       "      <th>recibio_atencion_medica_ult_anio</th>\n",
       "      <th>recibio_atencion_medica_ult_anio_descripcion</th>\n",
       "      <th>recibio_visitas_ultimo_anio</th>\n",
       "      <th>participo_alteracion_orden_ult_anio_id</th>\n",
       "      <th>participo_alteracion_orden_ult_anio_descripcion</th>\n",
       "      <th>tipo_infraccion_disciplinaria_id</th>\n",
       "      <th>tipo_infraccion_disciplinaria_descripcion</th>\n",
       "      <th>sancion_aplicada_id</th>\n",
       "      <th>sancion_aplicada_descripcion</th>\n",
       "      <th>calificacion_conducta_id</th>\n",
       "      <th>calificacion_conducta_descripcion</th>\n",
       "      <th>tentativa_fugas_evasiones_id</th>\n",
       "      <th>tentativa_fugas_evasiones_descripcion</th>\n",
       "      <th>tentativa_suicidio</th>\n",
       "      <th>fue_lesionado_id</th>\n",
       "      <th>fue_lesionado_descripcion</th>\n",
       "      <th>duracion_condena_anios</th>\n",
       "      <th>duracion_condena_meses</th>\n",
       "      <th>duracion_condena_rango</th>\n",
       "      <th>tipo_condena</th>\n",
       "      <th>tiene_medidas_seguridad</th>\n",
       "      <th>es_reincidente_id</th>\n",
       "      <th>es_reincidente_descripcion</th>\n",
       "      <th>tiene_periodo_progresividad_id</th>\n",
       "      <th>tiene_periodo_progresividad_descripcion</th>\n",
       "      <th>reparticion_id</th>\n",
       "      <th>reparticion_descripcion</th>\n",
       "      <th>tuvo_salidas_transitorias_id</th>\n",
       "      <th>tuvo_salidas_transitorias_descripcion</th>\n",
       "      <th>incorporado_reg_semi_libertad_id</th>\n",
       "      <th>incorporado_reg_semi_libertad_descripcion</th>\n",
       "      <th>participa_programa_pre_libertad</th>\n",
       "      <th>participa_programa_prision_discontinua_id</th>\n",
       "      <th>participa_programa_prision_discontinua_descripcion</th>\n",
       "      <th>participa_programa_semi_detencion_id</th>\n",
       "      <th>participa_programa_semi_detencion_descripcion</th>\n",
       "      <th>tuvo_reduccion_pena_id</th>\n",
       "      <th>tuvo_reduccion_pena_descripcion</th>\n",
       "      <th>mujer_tiene_hijos_intramuro</th>\n",
       "    </tr>\n",
       "  </thead>\n",
       "  <tbody>\n",
       "    <tr>\n",
       "      <th>0</th>\n",
       "      <td>2016</td>\n",
       "      <td>3</td>\n",
       "      <td>Córdoba</td>\n",
       "      <td>27</td>\n",
       "      <td>COMPLEJO CARCELARIO Nº 1 MODULO M.D.1</td>\n",
       "      <td>19</td>\n",
       "      <td>1</td>\n",
       "      <td>Masculino</td>\n",
       "      <td>1</td>\n",
       "      <td>Argentina</td>\n",
       "      <td>1</td>\n",
       "      <td>Soltero</td>\n",
       "      <td>3</td>\n",
       "      <td>Primario completo</td>\n",
       "      <td>0.0</td>\n",
       "      <td>NaN</td>\n",
       "      <td>0.0</td>\n",
       "      <td>NaN</td>\n",
       "      <td>2.0</td>\n",
       "      <td>Urbano</td>\n",
       "      <td>3</td>\n",
       "      <td>Córdoba</td>\n",
       "      <td>3</td>\n",
       "      <td>PROVINCIAL - Córdoba</td>\n",
       "      <td>2</td>\n",
       "      <td>Procesado</td>\n",
       "      <td>NaN</td>\n",
       "      <td>NaN</td>\n",
       "      <td>1.0</td>\n",
       "      <td>Ingreso directo</td>\n",
       "      <td>0.0</td>\n",
       "      <td>NaN</td>\n",
       "      <td>0.0</td>\n",
       "      <td>NaN</td>\n",
       "      <td>0</td>\n",
       "      <td>NaN</td>\n",
       "      <td>0</td>\n",
       "      <td>NaN</td>\n",
       "      <td>0</td>\n",
       "      <td>NaN</td>\n",
       "      <td>5</td>\n",
       "      <td>No tiene trabajo remunerado</td>\n",
       "      <td>0.0</td>\n",
       "      <td>5.0</td>\n",
       "      <td>Si - educación no formal (Cursos)</td>\n",
       "      <td>1.0</td>\n",
       "      <td>19.0</td>\n",
       "      <td>SI - OTRAS ENFERMEDADES</td>\n",
       "      <td>1.0</td>\n",
       "      <td>4.0</td>\n",
       "      <td>SI - Alteración del orden SIN heridos</td>\n",
       "      <td>NaN</td>\n",
       "      <td>NaN</td>\n",
       "      <td>NaN</td>\n",
       "      <td>NaN</td>\n",
       "      <td>NaN</td>\n",
       "      <td>NaN</td>\n",
       "      <td>NaN</td>\n",
       "      <td>NaN</td>\n",
       "      <td>NaN</td>\n",
       "      <td>NaN</td>\n",
       "      <td>NaN</td>\n",
       "      <td>NaN</td>\n",
       "      <td>NaN</td>\n",
       "      <td>NaN</td>\n",
       "      <td>NaN</td>\n",
       "      <td>NaN</td>\n",
       "      <td>NaN</td>\n",
       "      <td>NaN</td>\n",
       "      <td>NaN</td>\n",
       "      <td>NaN</td>\n",
       "      <td>NaN</td>\n",
       "      <td>NaN</td>\n",
       "      <td>NaN</td>\n",
       "      <td>NaN</td>\n",
       "      <td>NaN</td>\n",
       "      <td>NaN</td>\n",
       "      <td>NaN</td>\n",
       "      <td>NaN</td>\n",
       "      <td>NaN</td>\n",
       "      <td>NaN</td>\n",
       "      <td>NaN</td>\n",
       "      <td>NaN</td>\n",
       "      <td>NaN</td>\n",
       "      <td>NaN</td>\n",
       "    </tr>\n",
       "    <tr>\n",
       "      <th>1</th>\n",
       "      <td>2016</td>\n",
       "      <td>3</td>\n",
       "      <td>Córdoba</td>\n",
       "      <td>27</td>\n",
       "      <td>COMPLEJO CARCELARIO Nº 1 MODULO M.D.1</td>\n",
       "      <td>21</td>\n",
       "      <td>1</td>\n",
       "      <td>Masculino</td>\n",
       "      <td>1</td>\n",
       "      <td>Argentina</td>\n",
       "      <td>1</td>\n",
       "      <td>Soltero</td>\n",
       "      <td>3</td>\n",
       "      <td>Primario completo</td>\n",
       "      <td>0.0</td>\n",
       "      <td>NaN</td>\n",
       "      <td>0.0</td>\n",
       "      <td>NaN</td>\n",
       "      <td>2.0</td>\n",
       "      <td>Urbano</td>\n",
       "      <td>3</td>\n",
       "      <td>Córdoba</td>\n",
       "      <td>3</td>\n",
       "      <td>PROVINCIAL - Córdoba</td>\n",
       "      <td>2</td>\n",
       "      <td>Procesado</td>\n",
       "      <td>2015-08-20</td>\n",
       "      <td>NaN</td>\n",
       "      <td>1.0</td>\n",
       "      <td>Ingreso directo</td>\n",
       "      <td>0.0</td>\n",
       "      <td>NaN</td>\n",
       "      <td>0.0</td>\n",
       "      <td>NaN</td>\n",
       "      <td>0</td>\n",
       "      <td>NaN</td>\n",
       "      <td>0</td>\n",
       "      <td>NaN</td>\n",
       "      <td>0</td>\n",
       "      <td>NaN</td>\n",
       "      <td>5</td>\n",
       "      <td>No tiene trabajo remunerado</td>\n",
       "      <td>0.0</td>\n",
       "      <td>6.0</td>\n",
       "      <td>No participa de ningún programa educativo</td>\n",
       "      <td>0.0</td>\n",
       "      <td>19.0</td>\n",
       "      <td>SI - OTRAS ENFERMEDADES</td>\n",
       "      <td>1.0</td>\n",
       "      <td>4.0</td>\n",
       "      <td>SI - Alteración del orden SIN heridos</td>\n",
       "      <td>NaN</td>\n",
       "      <td>NaN</td>\n",
       "      <td>NaN</td>\n",
       "      <td>NaN</td>\n",
       "      <td>NaN</td>\n",
       "      <td>NaN</td>\n",
       "      <td>NaN</td>\n",
       "      <td>NaN</td>\n",
       "      <td>NaN</td>\n",
       "      <td>NaN</td>\n",
       "      <td>NaN</td>\n",
       "      <td>NaN</td>\n",
       "      <td>NaN</td>\n",
       "      <td>NaN</td>\n",
       "      <td>NaN</td>\n",
       "      <td>NaN</td>\n",
       "      <td>NaN</td>\n",
       "      <td>NaN</td>\n",
       "      <td>NaN</td>\n",
       "      <td>NaN</td>\n",
       "      <td>NaN</td>\n",
       "      <td>NaN</td>\n",
       "      <td>NaN</td>\n",
       "      <td>NaN</td>\n",
       "      <td>NaN</td>\n",
       "      <td>NaN</td>\n",
       "      <td>NaN</td>\n",
       "      <td>NaN</td>\n",
       "      <td>NaN</td>\n",
       "      <td>NaN</td>\n",
       "      <td>NaN</td>\n",
       "      <td>NaN</td>\n",
       "      <td>NaN</td>\n",
       "      <td>NaN</td>\n",
       "    </tr>\n",
       "    <tr>\n",
       "      <th>2</th>\n",
       "      <td>2016</td>\n",
       "      <td>3</td>\n",
       "      <td>Córdoba</td>\n",
       "      <td>27</td>\n",
       "      <td>COMPLEJO CARCELARIO Nº 1 MODULO M.D.1</td>\n",
       "      <td>22</td>\n",
       "      <td>1</td>\n",
       "      <td>Masculino</td>\n",
       "      <td>1</td>\n",
       "      <td>Argentina</td>\n",
       "      <td>1</td>\n",
       "      <td>Soltero</td>\n",
       "      <td>3</td>\n",
       "      <td>Primario completo</td>\n",
       "      <td>0.0</td>\n",
       "      <td>NaN</td>\n",
       "      <td>0.0</td>\n",
       "      <td>NaN</td>\n",
       "      <td>2.0</td>\n",
       "      <td>Urbano</td>\n",
       "      <td>3</td>\n",
       "      <td>Córdoba</td>\n",
       "      <td>3</td>\n",
       "      <td>PROVINCIAL - Córdoba</td>\n",
       "      <td>2</td>\n",
       "      <td>Procesado</td>\n",
       "      <td>2016-03-05</td>\n",
       "      <td>NaN</td>\n",
       "      <td>1.0</td>\n",
       "      <td>Ingreso directo</td>\n",
       "      <td>0.0</td>\n",
       "      <td>NaN</td>\n",
       "      <td>0.0</td>\n",
       "      <td>NaN</td>\n",
       "      <td>0</td>\n",
       "      <td>NaN</td>\n",
       "      <td>0</td>\n",
       "      <td>NaN</td>\n",
       "      <td>0</td>\n",
       "      <td>NaN</td>\n",
       "      <td>5</td>\n",
       "      <td>No tiene trabajo remunerado</td>\n",
       "      <td>0.0</td>\n",
       "      <td>5.0</td>\n",
       "      <td>Si - educación no formal (Cursos)</td>\n",
       "      <td>0.0</td>\n",
       "      <td>19.0</td>\n",
       "      <td>SI - OTRAS ENFERMEDADES</td>\n",
       "      <td>1.0</td>\n",
       "      <td>4.0</td>\n",
       "      <td>SI - Alteración del orden SIN heridos</td>\n",
       "      <td>NaN</td>\n",
       "      <td>NaN</td>\n",
       "      <td>NaN</td>\n",
       "      <td>NaN</td>\n",
       "      <td>NaN</td>\n",
       "      <td>NaN</td>\n",
       "      <td>NaN</td>\n",
       "      <td>NaN</td>\n",
       "      <td>NaN</td>\n",
       "      <td>NaN</td>\n",
       "      <td>NaN</td>\n",
       "      <td>NaN</td>\n",
       "      <td>NaN</td>\n",
       "      <td>NaN</td>\n",
       "      <td>NaN</td>\n",
       "      <td>NaN</td>\n",
       "      <td>NaN</td>\n",
       "      <td>NaN</td>\n",
       "      <td>NaN</td>\n",
       "      <td>NaN</td>\n",
       "      <td>NaN</td>\n",
       "      <td>NaN</td>\n",
       "      <td>NaN</td>\n",
       "      <td>NaN</td>\n",
       "      <td>NaN</td>\n",
       "      <td>NaN</td>\n",
       "      <td>NaN</td>\n",
       "      <td>NaN</td>\n",
       "      <td>NaN</td>\n",
       "      <td>NaN</td>\n",
       "      <td>NaN</td>\n",
       "      <td>NaN</td>\n",
       "      <td>NaN</td>\n",
       "      <td>NaN</td>\n",
       "    </tr>\n",
       "  </tbody>\n",
       "</table>\n",
       "</div>"
      ],
      "text/plain": [
       "   anio_censo  provincia_id provincia_descripcion  establecimiento_id  \\\n",
       "0        2016             3               Córdoba                  27   \n",
       "1        2016             3               Córdoba                  27   \n",
       "2        2016             3               Córdoba                  27   \n",
       "\n",
       "             establecimiento_descripcion  edad  sexo_id sexo_descripcion  \\\n",
       "0  COMPLEJO CARCELARIO Nº 1 MODULO M.D.1    19        1        Masculino   \n",
       "1  COMPLEJO CARCELARIO Nº 1 MODULO M.D.1    21        1        Masculino   \n",
       "2  COMPLEJO CARCELARIO Nº 1 MODULO M.D.1    22        1        Masculino   \n",
       "\n",
       "   nacionalidad_id nacionalidad_descripcion  estado_civil_id  \\\n",
       "0                1                Argentina                1   \n",
       "1                1                Argentina                1   \n",
       "2                1                Argentina                1   \n",
       "\n",
       "  estado_civil_descripcion  nivel_instruccion_id  \\\n",
       "0                  Soltero                     3   \n",
       "1                  Soltero                     3   \n",
       "2                  Soltero                     3   \n",
       "\n",
       "  nivel_instruccion_descripcion  ultima_situacion_laboral_id  \\\n",
       "0             Primario completo                          0.0   \n",
       "1             Primario completo                          0.0   \n",
       "2             Primario completo                          0.0   \n",
       "\n",
       "  ultima_situacion_laboral_descripcion  capacitacion_laboral_al_ingresar_id  \\\n",
       "0                                  NaN                                  0.0   \n",
       "1                                  NaN                                  0.0   \n",
       "2                                  NaN                                  0.0   \n",
       "\n",
       "  capacitacion_laboral_al_ingresar_descripcion  ultimo_lugar_residencia_id  \\\n",
       "0                                          NaN                         2.0   \n",
       "1                                          NaN                         2.0   \n",
       "2                                          NaN                         2.0   \n",
       "\n",
       "  ultimo_lugar_residencia_descripcion  ultima_provincia_residencia_id  \\\n",
       "0                              Urbano                               3   \n",
       "1                              Urbano                               3   \n",
       "2                              Urbano                               3   \n",
       "\n",
       "  ultima_provincia_residencia_descripcion  jurisdiccion_id  \\\n",
       "0                                 Córdoba                3   \n",
       "1                                 Córdoba                3   \n",
       "2                                 Córdoba                3   \n",
       "\n",
       "  jurisdiccion_descripcion  situacion_legal_id situacion_legal_descripcion  \\\n",
       "0     PROVINCIAL - Córdoba                   2                   Procesado   \n",
       "1     PROVINCIAL - Córdoba                   2                   Procesado   \n",
       "2     PROVINCIAL - Córdoba                   2                   Procesado   \n",
       "\n",
       "  fecha_detencion fecha_condenado  establecimiento_procedencia_id  \\\n",
       "0             NaN             NaN                             1.0   \n",
       "1      2015-08-20             NaN                             1.0   \n",
       "2      2016-03-05             NaN                             1.0   \n",
       "\n",
       "  establecimiento_procedencia_descripcion  delito1_id delito1_descripcion  \\\n",
       "0                         Ingreso directo         0.0                 NaN   \n",
       "1                         Ingreso directo         0.0                 NaN   \n",
       "2                         Ingreso directo         0.0                 NaN   \n",
       "\n",
       "   delito2_id delito2_descripcion  delito3_id delito3_descripcion  delito4_id  \\\n",
       "0         0.0                 NaN           0                 NaN           0   \n",
       "1         0.0                 NaN           0                 NaN           0   \n",
       "2         0.0                 NaN           0                 NaN           0   \n",
       "\n",
       "  delito4_descripcion  delito5_id delito5_descripcion  \\\n",
       "0                 NaN           0                 NaN   \n",
       "1                 NaN           0                 NaN   \n",
       "2                 NaN           0                 NaN   \n",
       "\n",
       "   horas_trabajo_remunerado_id horas_trabajo_remunerado_descripcion  \\\n",
       "0                            5          No tiene trabajo remunerado   \n",
       "1                            5          No tiene trabajo remunerado   \n",
       "2                            5          No tiene trabajo remunerado   \n",
       "\n",
       "   participacion_programa_laboral  participacion_programa_educativo_id  \\\n",
       "0                             0.0                                  5.0   \n",
       "1                             0.0                                  6.0   \n",
       "2                             0.0                                  5.0   \n",
       "\n",
       "  participacion_programa_educativo_descripcion  \\\n",
       "0            Si - educación no formal (Cursos)   \n",
       "1    No participa de ningún programa educativo   \n",
       "2            Si - educación no formal (Cursos)   \n",
       "\n",
       "   participacion_actividades_deportivas  recibio_atencion_medica_ult_anio  \\\n",
       "0                                   1.0                              19.0   \n",
       "1                                   0.0                              19.0   \n",
       "2                                   0.0                              19.0   \n",
       "\n",
       "  recibio_atencion_medica_ult_anio_descripcion  recibio_visitas_ultimo_anio  \\\n",
       "0                      SI - OTRAS ENFERMEDADES                          1.0   \n",
       "1                      SI - OTRAS ENFERMEDADES                          1.0   \n",
       "2                      SI - OTRAS ENFERMEDADES                          1.0   \n",
       "\n",
       "   participo_alteracion_orden_ult_anio_id  \\\n",
       "0                                     4.0   \n",
       "1                                     4.0   \n",
       "2                                     4.0   \n",
       "\n",
       "  participo_alteracion_orden_ult_anio_descripcion  \\\n",
       "0           SI - Alteración del orden SIN heridos   \n",
       "1           SI - Alteración del orden SIN heridos   \n",
       "2           SI - Alteración del orden SIN heridos   \n",
       "\n",
       "   tipo_infraccion_disciplinaria_id tipo_infraccion_disciplinaria_descripcion  \\\n",
       "0                               NaN                                       NaN   \n",
       "1                               NaN                                       NaN   \n",
       "2                               NaN                                       NaN   \n",
       "\n",
       "   sancion_aplicada_id sancion_aplicada_descripcion  calificacion_conducta_id  \\\n",
       "0                  NaN                          NaN                       NaN   \n",
       "1                  NaN                          NaN                       NaN   \n",
       "2                  NaN                          NaN                       NaN   \n",
       "\n",
       "  calificacion_conducta_descripcion  tentativa_fugas_evasiones_id  \\\n",
       "0                               NaN                           NaN   \n",
       "1                               NaN                           NaN   \n",
       "2                               NaN                           NaN   \n",
       "\n",
       "  tentativa_fugas_evasiones_descripcion  tentativa_suicidio  fue_lesionado_id  \\\n",
       "0                                   NaN                 NaN               NaN   \n",
       "1                                   NaN                 NaN               NaN   \n",
       "2                                   NaN                 NaN               NaN   \n",
       "\n",
       "  fue_lesionado_descripcion  duracion_condena_anios  duracion_condena_meses  \\\n",
       "0                       NaN                     NaN                     NaN   \n",
       "1                       NaN                     NaN                     NaN   \n",
       "2                       NaN                     NaN                     NaN   \n",
       "\n",
       "   duracion_condena_rango  tipo_condena  tiene_medidas_seguridad  \\\n",
       "0                     NaN           NaN                      NaN   \n",
       "1                     NaN           NaN                      NaN   \n",
       "2                     NaN           NaN                      NaN   \n",
       "\n",
       "   es_reincidente_id es_reincidente_descripcion  \\\n",
       "0                NaN                        NaN   \n",
       "1                NaN                        NaN   \n",
       "2                NaN                        NaN   \n",
       "\n",
       "   tiene_periodo_progresividad_id tiene_periodo_progresividad_descripcion  \\\n",
       "0                             NaN                                     NaN   \n",
       "1                             NaN                                     NaN   \n",
       "2                             NaN                                     NaN   \n",
       "\n",
       "   reparticion_id reparticion_descripcion  tuvo_salidas_transitorias_id  \\\n",
       "0             NaN                     NaN                           NaN   \n",
       "1             NaN                     NaN                           NaN   \n",
       "2             NaN                     NaN                           NaN   \n",
       "\n",
       "  tuvo_salidas_transitorias_descripcion  incorporado_reg_semi_libertad_id  \\\n",
       "0                                   NaN                               NaN   \n",
       "1                                   NaN                               NaN   \n",
       "2                                   NaN                               NaN   \n",
       "\n",
       "  incorporado_reg_semi_libertad_descripcion  participa_programa_pre_libertad  \\\n",
       "0                                       NaN                              NaN   \n",
       "1                                       NaN                              NaN   \n",
       "2                                       NaN                              NaN   \n",
       "\n",
       "   participa_programa_prision_discontinua_id  \\\n",
       "0                                        NaN   \n",
       "1                                        NaN   \n",
       "2                                        NaN   \n",
       "\n",
       "  participa_programa_prision_discontinua_descripcion  \\\n",
       "0                                                NaN   \n",
       "1                                                NaN   \n",
       "2                                                NaN   \n",
       "\n",
       "   participa_programa_semi_detencion_id  \\\n",
       "0                                   NaN   \n",
       "1                                   NaN   \n",
       "2                                   NaN   \n",
       "\n",
       "  participa_programa_semi_detencion_descripcion  tuvo_reduccion_pena_id  \\\n",
       "0                                           NaN                     NaN   \n",
       "1                                           NaN                     NaN   \n",
       "2                                           NaN                     NaN   \n",
       "\n",
       "  tuvo_reduccion_pena_descripcion  mujer_tiene_hijos_intramuro  \n",
       "0                             NaN                          NaN  \n",
       "1                             NaN                          NaN  \n",
       "2                             NaN                          NaN  "
      ]
     },
     "execution_count": 3,
     "metadata": {},
     "output_type": "execute_result"
    }
   ],
   "source": [
    "sneep[:3]"
   ]
  },
  {
   "cell_type": "code",
   "execution_count": 4,
   "metadata": {
    "scrolled": true
   },
   "outputs": [
    {
     "data": {
      "text/plain": [
       "(30314, 85)"
      ]
     },
     "execution_count": 4,
     "metadata": {},
     "output_type": "execute_result"
    }
   ],
   "source": [
    "sneep.shape"
   ]
  },
  {
   "cell_type": "markdown",
   "metadata": {},
   "source": [
    "## Estadísticas descriptivas\n",
    "### Cálculos estadísticos de la edad de la población \n",
    "* Con los datos tomados de los años 2015 y 2016 se hara primero un analisis por edad para ver si existe una tendencia en los datos."
   ]
  },
  {
   "cell_type": "code",
   "execution_count": 5,
   "metadata": {},
   "outputs": [
    {
     "name": "stdout",
     "output_type": "stream",
     "text": [
      "La Media en la edad de la población es: 33\n",
      "La Mediana en la edad de la población es: 30\n",
      "La Moda en la edad de la población es: 26\n",
      "La Desviación en la edad de la población es: 11\n"
     ]
    }
   ],
   "source": [
    "print('La Media en la edad de la población es: {:.0f}'.format(sneep.edad.mean()))\n",
    "print('La Mediana en la edad de la población es: {:.0f}'.format(sneep.edad.median()))\n",
    "print(\"La Moda en la edad de la población es: %d\" % sneep.edad.mode())\n",
    "print('La Desviación en la edad de la población es: {:.0f}'.format(sneep.edad.std()))"
   ]
  },
  {
   "cell_type": "markdown",
   "metadata": {},
   "source": [
    "* Si vemos la distribución de los datos en un gráfico de barra se observa que el estadistico efectivo es la Moda (24) ya que vemos que nuestra distrubucion en lo datos es una distribución normal y que el pico de la campana corresponde a la Moda. "
   ]
  },
  {
   "cell_type": "code",
   "execution_count": 6,
   "metadata": {},
   "outputs": [
    {
     "data": {
      "text/plain": [
       "Text(0.5,1,'Distribución de Frecuencias por Edad')"
      ]
     },
     "execution_count": 6,
     "metadata": {},
     "output_type": "execute_result"
    },
    {
     "data": {
      "image/png": "[encoded data removed]",
      "text/plain": [
       "<Figure size 1656x360 with 1 Axes>"
      ]
     },
     "metadata": {
      "needs_background": "light"
     },
     "output_type": "display_data"
    }
   ],
   "source": [
    "datos= sneep.edad.value_counts()\n",
    "lista_evento = datos.sort_index()\n",
    "df_Edad = pd.DataFrame({\n",
    "   'Edad' : lista_evento.index.values,\n",
    "   'Frecuencia' : lista_evento.get_values(),\n",
    "}) \n",
    "_ = df_Edad.plot( x='Edad',y='Frecuencia',kind='bar', figsize = (23,5), color='#c02ecc')\n",
    "plt.title('Distribución de Frecuencias por Edad', fontsize=14, color='red')"
   ]
  },
  {
   "cell_type": "markdown",
   "metadata": {},
   "source": [
    "### Cálculos estadísticos de la duración de la condena  \n",
    "* Con los datos tomados de los años 2015 y 2016 se hara un analisis por duración de la condena para ver si existe una tendencia en los datos."
   ]
  },
  {
   "cell_type": "code",
   "execution_count": 7,
   "metadata": {},
   "outputs": [
    {
     "name": "stdout",
     "output_type": "stream",
     "text": [
      "La Media en los años de condena es: 4\n",
      "La Mediana en los años de condena es: 0\n",
      "La Moda en los años de condena es: 0\n",
      "La Desviación en los años de condena es: 6\n"
     ]
    }
   ],
   "source": [
    "print('La Media en los años de condena es: {:.0f}'.format(sneep.duracion_condena_anios.mean()))\n",
    "print('La Mediana en los años de condena es: {:.0f}'.format(sneep.duracion_condena_anios.median()))\n",
    "print(\"La Moda en los años de condena es: %d\" % sneep.duracion_condena_anios.mode())\n",
    "print('La Desviación en los años de condena es: {:.0f}'.format(sneep.duracion_condena_anios.std()))"
   ]
  },
  {
   "cell_type": "markdown",
   "metadata": {},
   "source": [
    "* Analizando con los calculos estadísticos y el gráfico de distrubuciones, la cantidad de años de condena tiende a menos de un año. Si excluyeramos los condenados de menos de un año la distribución en los datos responde a una distribución normal.  "
   ]
  },
  {
   "cell_type": "code",
   "execution_count": 8,
   "metadata": {
    "scrolled": false
   },
   "outputs": [
    {
     "data": {
      "text/plain": [
       "Text(0.5,1,'Distribución de Frecuencias por Años de Condena')"
      ]
     },
     "execution_count": 8,
     "metadata": {},
     "output_type": "execute_result"
    },
    {
     "data": {
      "image/png": "[encoded data removed]",
      "text/plain": [
       "<Figure size 1656x360 with 1 Axes>"
      ]
     },
     "metadata": {
      "needs_background": "light"
     },
     "output_type": "display_data"
    }
   ],
   "source": [
    "datos_condena= sneep.duracion_condena_anios.value_counts()\n",
    "lista_evento_1 = datos_condena.sort_index()\n",
    "df_Condena = pd.DataFrame({\n",
    "   'Cant.Años' : lista_evento_1.index.values,\n",
    "   'Frecuencia' : lista_evento_1.get_values(),\n",
    "}) \n",
    "_ = df_Condena.plot( x='Cant.Años',y='Frecuencia',kind='bar', figsize = (23,5), color='#c02ecc')\n",
    "plt.title('Distribución de Frecuencias por Años de Condena', fontsize=14, color='red')"
   ]
  },
  {
   "cell_type": "markdown",
   "metadata": {},
   "source": [
    "* Si buscamos la Funcion de Densidad de Probabilidades (FPD) nos encontramos con una distribución de los datos muy similar a la que representamos con el gráfico de barras. "
   ]
  },
  {
   "cell_type": "code",
   "execution_count": 9,
   "metadata": {
    "scrolled": false
   },
   "outputs": [
    {
     "data": {
      "text/plain": [
       "Text(0.5,1,'Probability density function of normal distribution')"
      ]
     },
     "execution_count": 9,
     "metadata": {},
     "output_type": "execute_result"
    },
    {
     "data": {
      "image/png": "[encoded data removed]",
      "text/plain": [
       "<Figure size 1656x1440 with 1 Axes>"
      ]
     },
     "metadata": {
      "needs_background": "light"
     },
     "output_type": "display_data"
    }
   ],
   "source": [
    "mu = sneep.duracion_condena_anios.median()\n",
    "sigma=sneep.duracion_condena_anios.std()\n",
    "rng = range(0,50)\n",
    "dist = norm(mu, sigma)\n",
    "\n",
    "plt.figure(figsize = (23,20))\n",
    "plt.subplot(311) \n",
    "plt.plot(rng, dist.pdf(rng), 'r', linewidth=2)\n",
    "plt.title('Probability density function of normal distribution', fontsize=14, color='red')"
   ]
  },
  {
   "cell_type": "markdown",
   "metadata": {},
   "source": [
    "### Análisis de la variable edad por genero de la población"
   ]
  },
  {
   "cell_type": "code",
   "execution_count": 10,
   "metadata": {
    "scrolled": true
   },
   "outputs": [],
   "source": [
    "nuevo_dt= sneep[ ~sneep['edad'].isnull()& ~sneep['sexo_descripcion'].isnull()  & ~sneep['duracion_condena_anios'].isnull()]\n",
    "Frecuencia_edad= sneep.edad.value_counts()\n",
    "df_nvo_dt = pd.DataFrame({\n",
    "   'Edad' : nuevo_dt.edad,\n",
    "   'Sexo' : nuevo_dt.sexo_descripcion,\n",
    "   'AñosdeCondena' : nuevo_dt.duracion_condena_anios,\n",
    "}) "
   ]
  },
  {
   "cell_type": "code",
   "execution_count": 11,
   "metadata": {
    "scrolled": true
   },
   "outputs": [
    {
     "data": {
      "image/png": "[encoded data removed]",
      "text/plain": [
       "<Figure size 1529.22x360 with 1 Axes>"
      ]
     },
     "metadata": {
      "needs_background": "light"
     },
     "output_type": "display_data"
    },
    {
     "data": {
      "image/png": "[encoded data removed]",
      "text/plain": [
       "<Figure size 1528.6x360 with 1 Axes>"
      ]
     },
     "metadata": {
      "needs_background": "light"
     },
     "output_type": "display_data"
    },
    {
     "data": {
      "image/png": "[encoded data removed]",
      "text/plain": [
       "<Figure size 1534.1x360 with 1 Axes>"
      ]
     },
     "metadata": {
      "needs_background": "light"
     },
     "output_type": "display_data"
    }
   ],
   "source": [
    "pal = dict(Masculino=\"#4682B4\", Femenino=\"#CD5C5C\",Transexual=\"#2E8B57\")\n",
    "gr_1 = sns.factorplot(x=\"Edad\",  hue=\"Sexo\",\n",
    "                      data=df_nvo_dt[df_nvo_dt['Sexo'] =='Masculino'],kind=\"count\", aspect=4, palette=pal, legend_out=True)\n",
    "gr_2 = sns.factorplot(x=\"Edad\",  hue=\"Sexo\",\n",
    "                      data=df_nvo_dt[df_nvo_dt['Sexo'] =='Femenino'],kind=\"count\", aspect=4, palette=pal, legend_out=True)\n",
    "\n",
    "gr_3 = sns.factorplot(x=\"Edad\",  hue=\"Sexo\",\n",
    "                      data=df_nvo_dt[df_nvo_dt['Sexo'] =='Transexual'],kind=\"count\", aspect=4, palette=pal, legend_out=True)\n"
   ]
  },
  {
   "cell_type": "markdown",
   "metadata": {},
   "source": [
    "* De este análisis (edad por sexo) podemos decir que la población Masculina es quien predomina en los datos, y la que hace que los datos tengan una distribución normal, al igual que el sexo femenino.\n",
    "* Haciendo el calculo de media, mediana, moda y desviación en cuanto a la edad por sexo nos da lo siguiente:"
   ]
  },
  {
   "cell_type": "code",
   "execution_count": 12,
   "metadata": {
    "scrolled": true
   },
   "outputs": [
    {
     "data": {
      "text/html": [
       "<div>\n",
       "<style scoped>\n",
       "    .dataframe tbody tr th:only-of-type {\n",
       "        vertical-align: middle;\n",
       "    }\n",
       "\n",
       "    .dataframe tbody tr th {\n",
       "        vertical-align: top;\n",
       "    }\n",
       "\n",
       "    .dataframe thead th {\n",
       "        text-align: right;\n",
       "    }\n",
       "</style>\n",
       "<table border=\"1\" class=\"dataframe\">\n",
       "  <thead>\n",
       "    <tr style=\"text-align: right;\">\n",
       "      <th></th>\n",
       "      <th>Media</th>\n",
       "      <th>Mediana</th>\n",
       "      <th>Moda</th>\n",
       "      <th>Desviacion estandar</th>\n",
       "    </tr>\n",
       "  </thead>\n",
       "  <tbody>\n",
       "    <tr>\n",
       "      <th>Masculino</th>\n",
       "      <td>33.305777</td>\n",
       "      <td>31.0</td>\n",
       "      <td>22</td>\n",
       "      <td>10.954527</td>\n",
       "    </tr>\n",
       "    <tr>\n",
       "      <th>Femenino</th>\n",
       "      <td>37.868161</td>\n",
       "      <td>37.0</td>\n",
       "      <td>38</td>\n",
       "      <td>11.276500</td>\n",
       "    </tr>\n",
       "    <tr>\n",
       "      <th>Transexual</th>\n",
       "      <td>32.230769</td>\n",
       "      <td>33.0</td>\n",
       "      <td>25</td>\n",
       "      <td>6.294809</td>\n",
       "    </tr>\n",
       "  </tbody>\n",
       "</table>\n",
       "</div>"
      ],
      "text/plain": [
       "                Media  Mediana  Moda  Desviacion estandar\n",
       "Masculino   33.305777     31.0    22            10.954527\n",
       "Femenino    37.868161     37.0    38            11.276500\n",
       "Transexual  32.230769     33.0    25             6.294809"
      ]
     },
     "execution_count": 12,
     "metadata": {},
     "output_type": "execute_result"
    }
   ],
   "source": [
    "media = [df_nvo_dt[df_nvo_dt['Sexo'] =='Masculino'].Edad.mean(), df_nvo_dt[df_nvo_dt['Sexo'] =='Femenino'].Edad.mean(),df_nvo_dt[df_nvo_dt['Sexo'] =='Transexual'].Edad.mean()]\n",
    "mediana=[df_nvo_dt[df_nvo_dt['Sexo'] =='Masculino'].Edad.median(), df_nvo_dt[df_nvo_dt['Sexo'] =='Femenino'].Edad.median(),df_nvo_dt[df_nvo_dt['Sexo'] =='Transexual'].Edad.median()]\n",
    "mode=[df_nvo_dt[df_nvo_dt['Sexo'] =='Masculino'].Edad.mode().values[0], df_nvo_dt[df_nvo_dt['Sexo'] =='Femenino'].Edad.mode().values[0],df_nvo_dt[df_nvo_dt['Sexo'] =='Transexual'].Edad.mode().values[0]]\n",
    "std=[df_nvo_dt[df_nvo_dt['Sexo'] =='Masculino'].Edad.std(), df_nvo_dt[df_nvo_dt['Sexo'] =='Femenino'].Edad.std(),df_nvo_dt[df_nvo_dt['Sexo'] =='Transexual'].Edad.std()]\n",
    "d = {'Media': media,'Mediana': mediana,'Moda': mode,'Desviacion estandar': std }\n",
    "df = pd.DataFrame(data=d, index=['Masculino','Femenino','Transexual'])\n",
    "df"
   ]
  },
  {
   "cell_type": "markdown",
   "metadata": {},
   "source": [
    "#### Podemos concluir que predomina el genero masculino en la población, y cuando vemos por edad tanto para el genero masculino como femenino no existe gran diferencia, como si se nota en el genero transexual. Hay una distribucion normal en los datos que se observan del sexo masculino y femenino."
   ]
  },
  {
   "cell_type": "markdown",
   "metadata": {},
   "source": [
    "### Análisis de la variable años de condenas por genero de la población"
   ]
  },
  {
   "cell_type": "code",
   "execution_count": 13,
   "metadata": {},
   "outputs": [
    {
     "data": {
      "image/png": "[encoded data removed]",
      "text/plain": [
       "<Figure size 1529.22x360 with 1 Axes>"
      ]
     },
     "metadata": {
      "needs_background": "light"
     },
     "output_type": "display_data"
    },
    {
     "data": {
      "image/png": "[encoded data removed]",
      "text/plain": [
       "<Figure size 1528.6x360 with 1 Axes>"
      ]
     },
     "metadata": {
      "needs_background": "light"
     },
     "output_type": "display_data"
    },
    {
     "data": {
      "image/png": "[encoded data removed]",
      "text/plain": [
       "<Figure size 1534.1x360 with 1 Axes>"
      ]
     },
     "metadata": {
      "needs_background": "light"
     },
     "output_type": "display_data"
    }
   ],
   "source": [
    "gr_4 = sns.factorplot(x=\"AñosdeCondena\",  hue=\"Sexo\",\n",
    "                      data=df_nvo_dt[df_nvo_dt['Sexo'] =='Masculino'],kind=\"count\", aspect=4, palette=pal, legend_out=True)\n",
    "gr_5 = sns.factorplot(x=\"AñosdeCondena\",  hue=\"Sexo\",\n",
    "                      data=df_nvo_dt[df_nvo_dt['Sexo'] =='Femenino'],kind=\"count\", aspect=4, palette=pal, legend_out=True)\n",
    "gr_6 = sns.factorplot(x=\"AñosdeCondena\",  hue=\"Sexo\",\n",
    "                      data=df_nvo_dt[df_nvo_dt['Sexo'] =='Transexual'],kind=\"count\", aspect=4, palette=pal, legend_out=True)\n"
   ]
  },
  {
   "cell_type": "markdown",
   "metadata": {},
   "source": [
    "* De este análisis vemos que la moda para los tres generos va ser la misma y que las condenas mas largas se dan en el genero masculino\n",
    "* Haciendo el calculo de media, mediana, moda y desviación en cuanto a la edad por sexo nos da lo siguiente:"
   ]
  },
  {
   "cell_type": "code",
   "execution_count": 14,
   "metadata": {},
   "outputs": [
    {
     "data": {
      "text/html": [
       "<div>\n",
       "<style scoped>\n",
       "    .dataframe tbody tr th:only-of-type {\n",
       "        vertical-align: middle;\n",
       "    }\n",
       "\n",
       "    .dataframe tbody tr th {\n",
       "        vertical-align: top;\n",
       "    }\n",
       "\n",
       "    .dataframe thead th {\n",
       "        text-align: right;\n",
       "    }\n",
       "</style>\n",
       "<table border=\"1\" class=\"dataframe\">\n",
       "  <thead>\n",
       "    <tr style=\"text-align: right;\">\n",
       "      <th></th>\n",
       "      <th>Media</th>\n",
       "      <th>Mediana</th>\n",
       "      <th>Moda</th>\n",
       "      <th>Desviacion estandar</th>\n",
       "    </tr>\n",
       "  </thead>\n",
       "  <tbody>\n",
       "    <tr>\n",
       "      <th>Masculino</th>\n",
       "      <td>3.704356</td>\n",
       "      <td>0.0</td>\n",
       "      <td>0.0</td>\n",
       "      <td>5.523137</td>\n",
       "    </tr>\n",
       "    <tr>\n",
       "      <th>Femenino</th>\n",
       "      <td>2.904036</td>\n",
       "      <td>0.0</td>\n",
       "      <td>0.0</td>\n",
       "      <td>5.200360</td>\n",
       "    </tr>\n",
       "    <tr>\n",
       "      <th>Transexual</th>\n",
       "      <td>1.423077</td>\n",
       "      <td>0.0</td>\n",
       "      <td>0.0</td>\n",
       "      <td>2.212204</td>\n",
       "    </tr>\n",
       "  </tbody>\n",
       "</table>\n",
       "</div>"
      ],
      "text/plain": [
       "               Media  Mediana  Moda  Desviacion estandar\n",
       "Masculino   3.704356      0.0   0.0             5.523137\n",
       "Femenino    2.904036      0.0   0.0             5.200360\n",
       "Transexual  1.423077      0.0   0.0             2.212204"
      ]
     },
     "execution_count": 14,
     "metadata": {},
     "output_type": "execute_result"
    }
   ],
   "source": [
    "media = [df_nvo_dt[df_nvo_dt['Sexo'] =='Masculino'].AñosdeCondena.mean(), df_nvo_dt[df_nvo_dt['Sexo'] =='Femenino'].AñosdeCondena.mean(),df_nvo_dt[df_nvo_dt['Sexo'] =='Transexual'].AñosdeCondena.mean()]\n",
    "mediana=[df_nvo_dt[df_nvo_dt['Sexo'] =='Masculino'].AñosdeCondena.median(), df_nvo_dt[df_nvo_dt['Sexo'] =='Femenino'].AñosdeCondena.median(),df_nvo_dt[df_nvo_dt['Sexo'] =='Transexual'].AñosdeCondena.median()]\n",
    "mode=[df_nvo_dt[df_nvo_dt['Sexo'] =='Masculino'].AñosdeCondena.mode().values[0], df_nvo_dt[df_nvo_dt['Sexo'] =='Femenino'].AñosdeCondena.mode().values[0],df_nvo_dt[df_nvo_dt['Sexo'] =='Transexual'].AñosdeCondena.mode().values[0]]\n",
    "std=[df_nvo_dt[df_nvo_dt['Sexo'] =='Masculino'].AñosdeCondena.std(), df_nvo_dt[df_nvo_dt['Sexo'] =='Femenino'].AñosdeCondena.std(),df_nvo_dt[df_nvo_dt['Sexo'] =='Transexual'].AñosdeCondena.std()]\n",
    "d = {'Media': media,'Mediana': mediana,'Moda': mode,'Desviacion estandar': std }\n",
    "df = pd.DataFrame(data=d, index=['Masculino','Femenino','Transexual'])\n",
    "df"
   ]
  },
  {
   "cell_type": "markdown",
   "metadata": {},
   "source": [
    "#### Podemos concluir que predomina el genero masculino en la población, y cuando vemos la cantidad de años de condena por genero no existe gran diferencia en los años de encuesta 2015 y 2016."
   ]
  },
  {
   "cell_type": "markdown",
   "metadata": {},
   "source": [
    "## Calculos de Probabilidad  Conjunta y Marginal \n",
    "\n",
    "Cuando se está interesado en conocer la probabilidad de que dos sucesos se verifiquen simultáneamente, se habla de probabilidad conjunta. La distribución marginal está compuesta por el conjunto de probabilidades simples de los sucesos asociados a cada variable."
   ]
  },
  {
   "cell_type": "markdown",
   "metadata": {},
   "source": [
    "#### Para el calculo de la probabilidad marginal y conjunta se usarán los datos de las columnas participacion_programa_educativo_descripcion y es_reincidente_descripcion y poder hacer los análisis correspondientes."
   ]
  },
  {
   "cell_type": "code",
   "execution_count": 15,
   "metadata": {},
   "outputs": [
    {
     "name": "stdout",
     "output_type": "stream",
     "text": [
      "La probabilidad de que tenga alguna participación en un programa educativo es P(A)= 0.44233687405159333\n"
     ]
    }
   ],
   "source": [
    "df_nvo_datos = pd.DataFrame({\n",
    "   'Prog_Educativo' : sneep.participacion_programa_educativo_descripcion,\n",
    "   'Reincidente' : sneep.es_reincidente_descripcion,\n",
    "}) \n",
    "Total_PEdu= sneep['participacion_programa_educativo_descripcion'].isnull()\n",
    "Total_PEdu=Total_PEdu.value_counts()\n",
    "Total_PEdu= Total_PEdu.sort_index()\n",
    "Total_PEdu=Total_PEdu.sum()\n",
    "\n",
    "tabla_1=df_nvo_datos[(df_nvo_datos['Prog_Educativo']  != 'No participa de ningún programa educativo')]\n",
    "Existe_PEdu=tabla_1.Prog_Educativo.value_counts()\n",
    "Existe_PEdu=Existe_PEdu.sum()\n",
    "P_A=Existe_PEdu/Total_PEdu\n",
    "print(\"La probabilidad de que tenga alguna participación en un programa educativo es P(A)= {}\".format(P_A)   \n",
    ")"
   ]
  },
  {
   "cell_type": "markdown",
   "metadata": {},
   "source": [
    "#### Se hace la tabla de distribución de frecuencias de la cantidad que participa en un programa educativo."
   ]
  },
  {
   "cell_type": "code",
   "execution_count": 16,
   "metadata": {
    "scrolled": true
   },
   "outputs": [
    {
     "data": {
      "text/html": [
       "<div>\n",
       "<style scoped>\n",
       "    .dataframe tbody tr th:only-of-type {\n",
       "        vertical-align: middle;\n",
       "    }\n",
       "\n",
       "    .dataframe tbody tr th {\n",
       "        vertical-align: top;\n",
       "    }\n",
       "\n",
       "    .dataframe thead th {\n",
       "        text-align: right;\n",
       "    }\n",
       "</style>\n",
       "<table border=\"1\" class=\"dataframe\">\n",
       "  <thead>\n",
       "    <tr style=\"text-align: right;\">\n",
       "      <th></th>\n",
       "      <th>Prog_Educativo</th>\n",
       "      <th>Frecuencia</th>\n",
       "      <th>Frec_Prob</th>\n",
       "    </tr>\n",
       "  </thead>\n",
       "  <tbody>\n",
       "    <tr>\n",
       "      <th>0</th>\n",
       "      <td>Si - educación formal - PRIMARIA (EGB)</td>\n",
       "      <td>5336</td>\n",
       "      <td>0.397942</td>\n",
       "    </tr>\n",
       "    <tr>\n",
       "      <th>1</th>\n",
       "      <td>Si - educación formal - SECUNDARIA (Polimodal)</td>\n",
       "      <td>5139</td>\n",
       "      <td>0.383250</td>\n",
       "    </tr>\n",
       "    <tr>\n",
       "      <th>2</th>\n",
       "      <td>Si - educación formal - TERCIARIA</td>\n",
       "      <td>327</td>\n",
       "      <td>0.024387</td>\n",
       "    </tr>\n",
       "    <tr>\n",
       "      <th>3</th>\n",
       "      <td>Si - educación formal - UNIVERSITARIA</td>\n",
       "      <td>483</td>\n",
       "      <td>0.036021</td>\n",
       "    </tr>\n",
       "    <tr>\n",
       "      <th>4</th>\n",
       "      <td>Si - educación no formal (Cursos)</td>\n",
       "      <td>2124</td>\n",
       "      <td>0.158401</td>\n",
       "    </tr>\n",
       "  </tbody>\n",
       "</table>\n",
       "</div>"
      ],
      "text/plain": [
       "                                   Prog_Educativo  Frecuencia  Frec_Prob\n",
       "0          Si - educación formal - PRIMARIA (EGB)        5336   0.397942\n",
       "1  Si - educación formal - SECUNDARIA (Polimodal)        5139   0.383250\n",
       "2               Si - educación formal - TERCIARIA         327   0.024387\n",
       "3           Si - educación formal - UNIVERSITARIA         483   0.036021\n",
       "4               Si - educación no formal (Cursos)        2124   0.158401"
      ]
     },
     "execution_count": 16,
     "metadata": {},
     "output_type": "execute_result"
    }
   ],
   "source": [
    "datos_pgedu= tabla_1.Prog_Educativo.value_counts()\n",
    "lista_evento = datos_pgedu.sort_index()\n",
    "total_eventos= lista_evento.sum()\n",
    "df_Prg_Edu = pd.DataFrame({\n",
    "   'Prog_Educativo' : lista_evento.index.values,\n",
    "   'Frecuencia' : lista_evento.get_values(),\n",
    "}) \n",
    "df_Prg_Edu['Frec_Prob'] = df_Prg_Edu['Frecuencia']/total_eventos\n",
    "df_Prg_Edu = df_Prg_Edu[['Prog_Educativo', 'Frecuencia', 'Frec_Prob']]\n",
    "df_Prg_Edu"
   ]
  },
  {
   "cell_type": "markdown",
   "metadata": {},
   "source": [
    "#### Con este análisis simple de si tiene participación en algun programa eductivo concluimos el que 50% tiene algun programa y que a medida que aumenta la formación disminuye la probabilidad de cometer un delito."
   ]
  },
  {
   "cell_type": "markdown",
   "metadata": {
    "scrolled": true
   },
   "source": [
    "### Analizamos a continuación como se comporta que tenga programa educativo  y que sea un reincidente"
   ]
  },
  {
   "cell_type": "markdown",
   "metadata": {
    "scrolled": true
   },
   "source": [
    "* Para analizar de estas dos variables la probabilidad conjunta utilizaremos la siguiente formula\n",
    "$$P (N \\wedge     M)$$\n",
    "* En el punto anterior se armo una tabla donde se quito de los datos de programa eductativo los NaN y los que no participan. Ahora se arma en base a esos datos la reincidencia."
   ]
  },
  {
   "cell_type": "code",
   "execution_count": 17,
   "metadata": {
    "scrolled": true
   },
   "outputs": [
    {
     "data": {
      "text/plain": [
       "(5194, 2)"
      ]
     },
     "execution_count": 17,
     "metadata": {},
     "output_type": "execute_result"
    }
   ],
   "source": [
    "con_progedu_reincidente = tabla_1.dropna(subset=['Reincidente'])\n",
    "con_progedu_reincidente.shape"
   ]
  },
  {
   "cell_type": "markdown",
   "metadata": {},
   "source": [
    "* Para calcular la probabilidad, dividimos por el total de casos"
   ]
  },
  {
   "cell_type": "code",
   "execution_count": 18,
   "metadata": {},
   "outputs": [
    {
     "name": "stdout",
     "output_type": "stream",
     "text": [
      "P(M & N) = 0.17133997492907568\n"
     ]
    }
   ],
   "source": [
    "prob_progedu_rein = len(con_progedu_reincidente) / float(len(sneep))\n",
    "print('P(M & N) = {}'.format(prob_progedu_rein))"
   ]
  },
  {
   "cell_type": "markdown",
   "metadata": {},
   "source": [
    "La probabilidad condicional es calculada como:"
   ]
  },
  {
   "cell_type": "code",
   "execution_count": 19,
   "metadata": {},
   "outputs": [
    {
     "name": "stdout",
     "output_type": "stream",
     "text": [
      "P(N | M) = 0.3873517786561265\n"
     ]
    }
   ],
   "source": [
    "prob_progedu_dado_reincidencia = prob_progedu_rein / P_A\n",
    "print('P(N | M) = {}'.format(prob_progedu_dado_reincidencia))"
   ]
  },
  {
   "cell_type": "markdown",
   "metadata": {},
   "source": [
    "Para poder hace un mejor analisis y ver si las variables son o no indepencientes primeros analizamos la distribución que se presenta en ambas"
   ]
  },
  {
   "cell_type": "code",
   "execution_count": 20,
   "metadata": {},
   "outputs": [
    {
     "data": {
      "text/html": [
       "<div>\n",
       "<style scoped>\n",
       "    .dataframe tbody tr th:only-of-type {\n",
       "        vertical-align: middle;\n",
       "    }\n",
       "\n",
       "    .dataframe tbody tr th {\n",
       "        vertical-align: top;\n",
       "    }\n",
       "\n",
       "    .dataframe thead th {\n",
       "        text-align: right;\n",
       "    }\n",
       "</style>\n",
       "<table border=\"1\" class=\"dataframe\">\n",
       "  <thead>\n",
       "    <tr style=\"text-align: right;\">\n",
       "      <th>Reincidente</th>\n",
       "      <th>Primario</th>\n",
       "      <th>Reincidencia múltiple (art. 52 CP)</th>\n",
       "      <th>Reincidente (art. 50 CP)</th>\n",
       "      <th>Reiterante</th>\n",
       "    </tr>\n",
       "    <tr>\n",
       "      <th>Prog_Educativo</th>\n",
       "      <th></th>\n",
       "      <th></th>\n",
       "      <th></th>\n",
       "      <th></th>\n",
       "    </tr>\n",
       "  </thead>\n",
       "  <tbody>\n",
       "    <tr>\n",
       "      <th>Si - educación formal - PRIMARIA (EGB)</th>\n",
       "      <td>1409</td>\n",
       "      <td>9</td>\n",
       "      <td>314</td>\n",
       "      <td>157</td>\n",
       "    </tr>\n",
       "    <tr>\n",
       "      <th>Si - educación formal - SECUNDARIA (Polimodal)</th>\n",
       "      <td>1487</td>\n",
       "      <td>9</td>\n",
       "      <td>352</td>\n",
       "      <td>76</td>\n",
       "    </tr>\n",
       "    <tr>\n",
       "      <th>Si - educación formal - TERCIARIA</th>\n",
       "      <td>84</td>\n",
       "      <td>0</td>\n",
       "      <td>40</td>\n",
       "      <td>5</td>\n",
       "    </tr>\n",
       "    <tr>\n",
       "      <th>Si - educación formal - UNIVERSITARIA</th>\n",
       "      <td>137</td>\n",
       "      <td>0</td>\n",
       "      <td>46</td>\n",
       "      <td>13</td>\n",
       "    </tr>\n",
       "    <tr>\n",
       "      <th>Si - educación no formal (Cursos)</th>\n",
       "      <td>483</td>\n",
       "      <td>2</td>\n",
       "      <td>120</td>\n",
       "      <td>38</td>\n",
       "    </tr>\n",
       "  </tbody>\n",
       "</table>\n",
       "</div>"
      ],
      "text/plain": [
       "Reincidente                                     Primario  \\\n",
       "Prog_Educativo                                             \n",
       "Si - educación formal - PRIMARIA (EGB)              1409   \n",
       "Si - educación formal - SECUNDARIA (Polimodal)      1487   \n",
       "Si - educación formal - TERCIARIA                     84   \n",
       "Si - educación formal - UNIVERSITARIA                137   \n",
       "Si - educación no formal (Cursos)                    483   \n",
       "\n",
       "Reincidente                                     Reincidencia múltiple (art. 52 CP)  \\\n",
       "Prog_Educativo                                                                       \n",
       "Si - educación formal - PRIMARIA (EGB)                                           9   \n",
       "Si - educación formal - SECUNDARIA (Polimodal)                                   9   \n",
       "Si - educación formal - TERCIARIA                                                0   \n",
       "Si - educación formal - UNIVERSITARIA                                            0   \n",
       "Si - educación no formal (Cursos)                                                2   \n",
       "\n",
       "Reincidente                                     Reincidente (art. 50 CP)  \\\n",
       "Prog_Educativo                                                             \n",
       "Si - educación formal - PRIMARIA (EGB)                               314   \n",
       "Si - educación formal - SECUNDARIA (Polimodal)                       352   \n",
       "Si - educación formal - TERCIARIA                                     40   \n",
       "Si - educación formal - UNIVERSITARIA                                 46   \n",
       "Si - educación no formal (Cursos)                                    120   \n",
       "\n",
       "Reincidente                                     Reiterante  \n",
       "Prog_Educativo                                              \n",
       "Si - educación formal - PRIMARIA (EGB)                 157  \n",
       "Si - educación formal - SECUNDARIA (Polimodal)          76  \n",
       "Si - educación formal - TERCIARIA                        5  \n",
       "Si - educación formal - UNIVERSITARIA                   13  \n",
       "Si - educación no formal (Cursos)                       38  "
      ]
     },
     "execution_count": 20,
     "metadata": {},
     "output_type": "execute_result"
    }
   ],
   "source": [
    "tabla_comb= pd.crosstab(index=tabla_1.Prog_Educativo.sort_index(), \n",
    "            columns=tabla_1.Reincidente.sort_index())\n",
    "tabla_comb"
   ]
  },
  {
   "cell_type": "markdown",
   "metadata": {},
   "source": [
    "* Para saber si los eventos son independientes podemos determinar si el producto de las probabilidades marginales es igual a la probabilidad conjunta\n",
    "$$P(M) * P(N) = P(N \\wedge     M)$$\n",
    "* Calculamos P(N) que es la probabilidad de q exista reincidencia."
   ]
  },
  {
   "cell_type": "code",
   "execution_count": 21,
   "metadata": {},
   "outputs": [
    {
     "data": {
      "text/plain": [
       "(9965, 85)"
      ]
     },
     "execution_count": 21,
     "metadata": {},
     "output_type": "execute_result"
    }
   ],
   "source": [
    "es_reincidente = sneep.dropna(subset=['es_reincidente_descripcion'])\n",
    "es_reincidente.shape"
   ]
  },
  {
   "cell_type": "code",
   "execution_count": 22,
   "metadata": {},
   "outputs": [
    {
     "data": {
      "text/plain": [
       "0.3287260011875701"
      ]
     },
     "execution_count": 22,
     "metadata": {},
     "output_type": "execute_result"
    }
   ],
   "source": [
    "prob_reincidencia= len(es_reincidente) / float(len(sneep))\n",
    "prob_reincidencia"
   ]
  },
  {
   "cell_type": "code",
   "execution_count": 23,
   "metadata": {},
   "outputs": [
    {
     "name": "stdout",
     "output_type": "stream",
     "text": [
      "Producto de probabilidades marginales P(N)*P(M): 0.14540763178479013\n",
      "Probabilidad conjunta P(N & M): 0.3873517786561265\n"
     ]
    }
   ],
   "source": [
    "print('Producto de probabilidades marginales P(N)*P(M): {}'.format(P_A * prob_reincidencia))\n",
    "print('Probabilidad conjunta P(N & M): {}'.format(prob_progedu_dado_reincidencia))"
   ]
  },
  {
   "cell_type": "markdown",
   "metadata": {},
   "source": [
    "#### Con esto concluimos que son son variables independientes y que el hecho de que una persona participe en programas educativo primero tiene un 50% de probabilidad de cometer un delito y a medida que abanza en el nivel educativo disminuye la probabilidad de reincindir."
   ]
  },
  {
   "cell_type": "code",
   "execution_count": null,
   "metadata": {},
   "outputs": [],
   "source": []
  }
 ],
 "metadata": {
  "kernelspec": {
   "display_name": "Python 3",
   "language": "python",
   "name": "python3"
  },
  "language_info": {
   "codemirror_mode": {
    "name": "ipython",
    "version": 3
   },
   "file_extension": ".py",
   "mimetype": "text/x-python",
   "name": "python",
   "nbconvert_exporter": "python",
   "pygments_lexer": "ipython3",
   "version": "3.6.10"
  }
 },
 "nbformat": 4,
 "nbformat_minor": 2
}
